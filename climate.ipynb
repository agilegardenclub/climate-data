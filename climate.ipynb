{
 "cells": [
  {
   "cell_type": "markdown",
   "metadata": {},
   "source": [
    "# Azavea Climate Data\n",
    "\n",
    "The following notebook summarizes the relevant portion of the Azavea climate API for AGC.\n",
    "\n",
    "## Datasets\n",
    "\n",
    "The datasets available on Azavea's service are\n",
    "- [NASA NEX-GDDP](https://www.nccs.nasa.gov/services/climate-data-services)\n",
    "- [UCSD LOCA](http://loca.ucsd.edu/)\n",
    "\n",
    "The forecasted climate values are created assuming one of the following scenarios:\n",
    "- [Representative Common Pathway 8.5 (RCP 8.5)](https://en.wikipedia.org/wiki/Representative_Concentration_Pathway#RCP_8.5)\n",
    "    - Endpoint: \"/api/climate-data/{location}/RCP85\"\n",
    "    - Spans 2006 - 2100\n",
    "    - Azavea links to https://www.skepticalscience.com/rcp.php for more information\n",
    "- Historical\n",
    "    - Endpoint: \"/api/climate-data/{location}/historical\"\n",
    "    - Spans 1950 - 2005\n",
    "\n",
    "The climate data is also partitioned between these two endpoints. To see the full set of forecasted values from 1950 - 2100, they must be obtained by calling these two API endpoints separately.\n",
    "\n",
    "## Climate Models\n",
    "\n",
    "Each dataset provides a set of climate models using the above scenarios that are also provided by the dataset providers.\n",
    "\n",
    "## Climate Indicators\n",
    "\n",
    "The full list of available climate indicators can be found in the [documentation](https://docs.climate.azavea.com/indicators.html#)\n"
   ]
  },
  {
   "cell_type": "code",
   "execution_count": 28,
   "metadata": {},
   "outputs": [],
   "source": [
    "import os\n",
    "import json\n",
    "from dotenv import load_dotenv\n",
    "import requests\n",
    "import time\n",
    "\n",
    "from datetime import datetime\n",
    "from dateutil.relativedelta import relativedelta\n",
    "\n",
    "load_dotenv()\n",
    "\n",
    "URL = \"https://app.climate.azavea.com\"\n",
    "\n",
    "# This is the default list of selected Climate Models\n",
    "# It has roughly half of the available models selected by default though I am unsure why it does not have them all selected\n",
    "CLIMATE_MODELS = \"ACCESS1-0,bcc-csm1-1,BNU-ESM,CanESM2,CCSM4,CESM1-BGC,CNRM-CM5,CSIRO-Mk3-6-0,GFDL-CM3,GFDL-ESM2G,GFDL-ESM2M,inmcm4,IPSL-CM5A-LR,IPSL-CM5A-MR,MIROC5,MIROC-ESM,MIROC-ESM-CHEM,MPI-ESM-LR,MPI-ESM-MR,MRI-CGCM3,NorESM1-M\"\n",
    "\n",
    "INDICATORS = [\n",
    "    \"average_high_temperature\", \n",
    "    \"average_low_temperature\", \n",
    "    \"cooling_degree_days\", \n",
    "    \"diurnal_temperature_range\",\n",
    "    \"extreme_cold_events\",\n",
    "    \"extreme_heat_events\",\n",
    "    \"frost_days\", \n",
    "    \"heat_wave_duration_index\",\n",
    "    \"heat_wave_incidents\",\n",
    "    \"heating_degree_days\",\n",
    "    \"max_high_temperature\",\n",
    "    \"min_low_temperature\",\n",
    "    \"percentile_high_temperature\",\n",
    "    \"percentile_low_temperature\",\n",
    "    \"dry_spells\",\n",
    "    \"extreme_precipitation_events\",\n",
    "    \"max_consecutive_dry_days\",\n",
    "    \"percentile_precipitation\",\n",
    "    \"total_precipitation\",\n",
    "]\n",
    "\n",
    "INDICATORS_WITH_THRESHOLDS = [\n",
    "    \"max_temperature_threshold\",\n",
    "    \"min_temperature_threshold\",\n",
    "    \"precipitation_threshold\",\n",
    "]\n",
    "\n",
    "HEADERS = {\"Authorization\": f\"Token {os.getenv('CLIMATE_API_TOKEN')}\"}\n"
   ]
  },
  {
   "cell_type": "code",
   "execution_count": 32,
   "metadata": {},
   "outputs": [
    {
     "data": {
      "text/plain": [
       "200"
      ]
     },
     "execution_count": 32,
     "metadata": {},
     "output_type": "execute_result"
    }
   ],
   "source": [
    "# This retrieves the \"Average High Temperature\" for the NASA NEX-GDDP Dataset using the climate models listed above\n",
    "r = requests.get(f\"{URL}/api/climate-data/1025/RCP85/indicator/dry_spells/?models={CLIMATE_MODELS}&time_aggregation=monthly&dataset=NEX-GDDP\",\n",
    "headers=HEADERS)\n",
    "r.status_code"
   ]
  },
  {
   "cell_type": "code",
   "execution_count": 35,
   "metadata": {},
   "outputs": [
    {
     "name": "stdout",
     "output_type": "stream",
     "text": [
      "Too Many Requests. Sleeping for 2\n"
     ]
    }
   ],
   "source": [
    "def trend(data: dict, delta: relativedelta):\n",
    "    end_date = datetime.today()\n",
    "    curr_date = end_date - delta\n",
    "    new_data = {}\n",
    "    while curr_date <= end_date:\n",
    "        fmt_date = curr_date.strftime(\"%Y-%m\")\n",
    "        new_data[fmt_date] = data[fmt_date]\n",
    "        curr_date += relativedelta(months=1)\n",
    "    return new_data\n",
    "\n",
    "climate_data = {}\n",
    "for indicator in INDICATORS:\n",
    "    # Note: No units are indicated so it will use whatever the endpoint's default unit is set to i.e Fahrenheit for \"Average High Temperature\"\n",
    "    r = requests.get(f\"{URL}/api/climate-data/1025/RCP85/indicator/{indicator}/?models={CLIMATE_MODELS}&time_aggregation=monthly&dataset=NEX-GDDP\", headers=HEADERS)\n",
    "    if r.status_code == 200:\n",
    "        try:\n",
    "            # Reduces the data to the interval [Current month 10 years ago, Current Month Present Year]\n",
    "            data = r.json()[\"data\"]\n",
    "            data = trend(data, relativedelta(years=10))\n",
    "            climate_data[indicator] = data\n",
    "            with open(f\"{indicator}.json\", \"w\") as f:\n",
    "                json.dump(data, f, indent=4)\n",
    "        except KeyError:\n",
    "            print(f\"KeyError on \\\"{indicator}\\\". Available keys are: {r.json().keys()}\")\n",
    "    elif r.status_code == 429:\n",
    "        sleep_seconds = int(r.headers[\"Retry-After\"]) + 1\n",
    "        print(f\"Too Many Requests. Sleeping for {sleep_seconds} seconds\")\n",
    "        time.sleep(sleep_seconds)\n",
    "    else:\n",
    "        print(f\"Retrieval for indicator \\\"{indicator}\\\" failed with HTTP status code: {r.status_code}\")\n",
    "    \n",
    "\n",
    "with open(\"climate_data.json\", \"w\") as f:\n",
    "    json.dump(climate_data, f, indent=4)"
   ]
  },
  {
   "cell_type": "code",
   "execution_count": null,
   "metadata": {},
   "outputs": [],
   "source": []
  }
 ],
 "metadata": {
  "kernelspec": {
   "display_name": "Python 3.9.6 ('venv': venv)",
   "language": "python",
   "name": "python3"
  },
  "language_info": {
   "codemirror_mode": {
    "name": "ipython",
    "version": 3
   },
   "file_extension": ".py",
   "mimetype": "text/x-python",
   "name": "python",
   "nbconvert_exporter": "python",
   "pygments_lexer": "ipython3",
   "version": "3.9.6"
  },
  "orig_nbformat": 4,
  "vscode": {
   "interpreter": {
    "hash": "7f753268400064037bd339b156c31deb0e05272c7f688eb6231f46ae55ff0007"
   }
  }
 },
 "nbformat": 4,
 "nbformat_minor": 2
}
